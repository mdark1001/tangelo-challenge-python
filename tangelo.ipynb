{
 "cells": [
  {
   "cell_type": "code",
   "execution_count": 1,
   "metadata": {},
   "outputs": [],
   "source": [
    "from services import RestCountriesService\n",
    "\n",
    "\n"
   ]
  },
  {
   "cell_type": "code",
   "execution_count": 3,
   "metadata": {},
   "outputs": [],
   "source": [
    "import pandas as pd"
   ]
  },
  {
   "cell_type": "code",
   "execution_count": 4,
   "metadata": {},
   "outputs": [],
   "source": [
    "service = RestCountriesService()"
   ]
  },
  {
   "cell_type": "code",
   "execution_count": 5,
   "metadata": {},
   "outputs": [],
   "source": [
    "df = pd.DataFrame(service.get_all().response)"
   ]
  },
  {
   "cell_type": "code",
   "execution_count": 6,
   "metadata": {},
   "outputs": [
    {
     "data": {
      "text/html": [
       "<div>\n",
       "<style scoped>\n",
       "    .dataframe tbody tr th:only-of-type {\n",
       "        vertical-align: middle;\n",
       "    }\n",
       "\n",
       "    .dataframe tbody tr th {\n",
       "        vertical-align: top;\n",
       "    }\n",
       "\n",
       "    .dataframe thead th {\n",
       "        text-align: right;\n",
       "    }\n",
       "</style>\n",
       "<table border=\"1\" class=\"dataframe\">\n",
       "  <thead>\n",
       "    <tr style=\"text-align: right;\">\n",
       "      <th></th>\n",
       "      <th>name</th>\n",
       "      <th>tld</th>\n",
       "      <th>cca2</th>\n",
       "      <th>ccn3</th>\n",
       "      <th>cca3</th>\n",
       "      <th>cioc</th>\n",
       "      <th>independent</th>\n",
       "      <th>status</th>\n",
       "      <th>unMember</th>\n",
       "      <th>currencies</th>\n",
       "      <th>...</th>\n",
       "      <th>gini</th>\n",
       "      <th>fifa</th>\n",
       "      <th>car</th>\n",
       "      <th>timezones</th>\n",
       "      <th>continents</th>\n",
       "      <th>flags</th>\n",
       "      <th>coatOfArms</th>\n",
       "      <th>startOfWeek</th>\n",
       "      <th>capitalInfo</th>\n",
       "      <th>postalCode</th>\n",
       "    </tr>\n",
       "  </thead>\n",
       "  <tbody>\n",
       "    <tr>\n",
       "      <th>0</th>\n",
       "      <td>{'common': 'Montenegro', 'official': 'Monteneg...</td>\n",
       "      <td>[.me]</td>\n",
       "      <td>ME</td>\n",
       "      <td>499</td>\n",
       "      <td>MNE</td>\n",
       "      <td>MNE</td>\n",
       "      <td>True</td>\n",
       "      <td>officially-assigned</td>\n",
       "      <td>True</td>\n",
       "      <td>{'EUR': {'name': 'Euro', 'symbol': '€'}}</td>\n",
       "      <td>...</td>\n",
       "      <td>{'2016': 38.5}</td>\n",
       "      <td>MNE</td>\n",
       "      <td>{'signs': ['SCG'], 'side': 'right'}</td>\n",
       "      <td>[UTC+01:00]</td>\n",
       "      <td>[Europe]</td>\n",
       "      <td>{'png': 'https://flagcdn.com/w320/me.png', 'sv...</td>\n",
       "      <td>{'png': 'https://mainfacts.com/media/images/co...</td>\n",
       "      <td>monday</td>\n",
       "      <td>{'latlng': [42.43, 19.27]}</td>\n",
       "      <td>{'format': '#####', 'regex': '^(\\d{5})$'}</td>\n",
       "    </tr>\n",
       "    <tr>\n",
       "      <th>1</th>\n",
       "      <td>{'common': 'Tokelau', 'official': 'Tokelau', '...</td>\n",
       "      <td>[.tk]</td>\n",
       "      <td>TK</td>\n",
       "      <td>772</td>\n",
       "      <td>TKL</td>\n",
       "      <td>NaN</td>\n",
       "      <td>False</td>\n",
       "      <td>officially-assigned</td>\n",
       "      <td>False</td>\n",
       "      <td>{'NZD': {'name': 'New Zealand dollar', 'symbol...</td>\n",
       "      <td>...</td>\n",
       "      <td>NaN</td>\n",
       "      <td>NaN</td>\n",
       "      <td>{'signs': [''], 'side': 'left'}</td>\n",
       "      <td>[UTC+13:00]</td>\n",
       "      <td>[Oceania]</td>\n",
       "      <td>{'png': 'https://flagcdn.com/w320/tk.png', 'sv...</td>\n",
       "      <td>{}</td>\n",
       "      <td>monday</td>\n",
       "      <td>{'latlng': [-9.38, -171.22]}</td>\n",
       "      <td>NaN</td>\n",
       "    </tr>\n",
       "    <tr>\n",
       "      <th>2</th>\n",
       "      <td>{'common': 'Cuba', 'official': 'Republic of Cu...</td>\n",
       "      <td>[.cu]</td>\n",
       "      <td>CU</td>\n",
       "      <td>192</td>\n",
       "      <td>CUB</td>\n",
       "      <td>CUB</td>\n",
       "      <td>True</td>\n",
       "      <td>officially-assigned</td>\n",
       "      <td>True</td>\n",
       "      <td>{'CUC': {'name': 'Cuban convertible peso', 'sy...</td>\n",
       "      <td>...</td>\n",
       "      <td>NaN</td>\n",
       "      <td>CUB</td>\n",
       "      <td>{'signs': ['C'], 'side': 'right'}</td>\n",
       "      <td>[UTC-05:00]</td>\n",
       "      <td>[North America]</td>\n",
       "      <td>{'png': 'https://flagcdn.com/w320/cu.png', 'sv...</td>\n",
       "      <td>{'png': 'https://mainfacts.com/media/images/co...</td>\n",
       "      <td>monday</td>\n",
       "      <td>{'latlng': [23.12, -82.35]}</td>\n",
       "      <td>{'format': 'CP #####', 'regex': '^(?:CP)*(\\d{5...</td>\n",
       "    </tr>\n",
       "    <tr>\n",
       "      <th>3</th>\n",
       "      <td>{'common': 'Guadeloupe', 'official': 'Guadelou...</td>\n",
       "      <td>[.gp]</td>\n",
       "      <td>GP</td>\n",
       "      <td>312</td>\n",
       "      <td>GLP</td>\n",
       "      <td>NaN</td>\n",
       "      <td>False</td>\n",
       "      <td>officially-assigned</td>\n",
       "      <td>False</td>\n",
       "      <td>{'EUR': {'name': 'Euro', 'symbol': '€'}}</td>\n",
       "      <td>...</td>\n",
       "      <td>NaN</td>\n",
       "      <td>NaN</td>\n",
       "      <td>{'signs': ['F'], 'side': 'right'}</td>\n",
       "      <td>[UTC-04:00]</td>\n",
       "      <td>[North America]</td>\n",
       "      <td>{'png': 'https://flagcdn.com/w320/gp.png', 'sv...</td>\n",
       "      <td>{'png': 'https://mainfacts.com/media/images/co...</td>\n",
       "      <td>monday</td>\n",
       "      <td>{'latlng': [16.03, -61.73]}</td>\n",
       "      <td>{'format': '#####', 'regex': '^((97|98)\\d{3})$'}</td>\n",
       "    </tr>\n",
       "    <tr>\n",
       "      <th>4</th>\n",
       "      <td>{'common': 'Greece', 'official': 'Hellenic Rep...</td>\n",
       "      <td>[.gr]</td>\n",
       "      <td>GR</td>\n",
       "      <td>300</td>\n",
       "      <td>GRC</td>\n",
       "      <td>GRE</td>\n",
       "      <td>True</td>\n",
       "      <td>officially-assigned</td>\n",
       "      <td>True</td>\n",
       "      <td>{'EUR': {'name': 'Euro', 'symbol': '€'}}</td>\n",
       "      <td>...</td>\n",
       "      <td>{'2018': 32.9}</td>\n",
       "      <td>GRE</td>\n",
       "      <td>{'signs': ['GR'], 'side': 'right'}</td>\n",
       "      <td>[UTC+02:00]</td>\n",
       "      <td>[Europe]</td>\n",
       "      <td>{'png': 'https://flagcdn.com/w320/gr.png', 'sv...</td>\n",
       "      <td>{'png': 'https://mainfacts.com/media/images/co...</td>\n",
       "      <td>monday</td>\n",
       "      <td>{'latlng': [37.98, 23.73]}</td>\n",
       "      <td>{'format': '### ##', 'regex': '^(\\d{5})$'}</td>\n",
       "    </tr>\n",
       "  </tbody>\n",
       "</table>\n",
       "<p>5 rows × 35 columns</p>\n",
       "</div>"
      ],
      "text/plain": [
       "                                                name    tld cca2 ccn3 cca3  \\\n",
       "0  {'common': 'Montenegro', 'official': 'Monteneg...  [.me]   ME  499  MNE   \n",
       "1  {'common': 'Tokelau', 'official': 'Tokelau', '...  [.tk]   TK  772  TKL   \n",
       "2  {'common': 'Cuba', 'official': 'Republic of Cu...  [.cu]   CU  192  CUB   \n",
       "3  {'common': 'Guadeloupe', 'official': 'Guadelou...  [.gp]   GP  312  GLP   \n",
       "4  {'common': 'Greece', 'official': 'Hellenic Rep...  [.gr]   GR  300  GRC   \n",
       "\n",
       "  cioc independent               status  unMember  \\\n",
       "0  MNE        True  officially-assigned      True   \n",
       "1  NaN       False  officially-assigned     False   \n",
       "2  CUB        True  officially-assigned      True   \n",
       "3  NaN       False  officially-assigned     False   \n",
       "4  GRE        True  officially-assigned      True   \n",
       "\n",
       "                                          currencies  ...            gini  \\\n",
       "0           {'EUR': {'name': 'Euro', 'symbol': '€'}}  ...  {'2016': 38.5}   \n",
       "1  {'NZD': {'name': 'New Zealand dollar', 'symbol...  ...             NaN   \n",
       "2  {'CUC': {'name': 'Cuban convertible peso', 'sy...  ...             NaN   \n",
       "3           {'EUR': {'name': 'Euro', 'symbol': '€'}}  ...             NaN   \n",
       "4           {'EUR': {'name': 'Euro', 'symbol': '€'}}  ...  {'2018': 32.9}   \n",
       "\n",
       "  fifa                                  car    timezones       continents  \\\n",
       "0  MNE  {'signs': ['SCG'], 'side': 'right'}  [UTC+01:00]         [Europe]   \n",
       "1  NaN      {'signs': [''], 'side': 'left'}  [UTC+13:00]        [Oceania]   \n",
       "2  CUB    {'signs': ['C'], 'side': 'right'}  [UTC-05:00]  [North America]   \n",
       "3  NaN    {'signs': ['F'], 'side': 'right'}  [UTC-04:00]  [North America]   \n",
       "4  GRE   {'signs': ['GR'], 'side': 'right'}  [UTC+02:00]         [Europe]   \n",
       "\n",
       "                                               flags  \\\n",
       "0  {'png': 'https://flagcdn.com/w320/me.png', 'sv...   \n",
       "1  {'png': 'https://flagcdn.com/w320/tk.png', 'sv...   \n",
       "2  {'png': 'https://flagcdn.com/w320/cu.png', 'sv...   \n",
       "3  {'png': 'https://flagcdn.com/w320/gp.png', 'sv...   \n",
       "4  {'png': 'https://flagcdn.com/w320/gr.png', 'sv...   \n",
       "\n",
       "                                          coatOfArms startOfWeek  \\\n",
       "0  {'png': 'https://mainfacts.com/media/images/co...      monday   \n",
       "1                                                 {}      monday   \n",
       "2  {'png': 'https://mainfacts.com/media/images/co...      monday   \n",
       "3  {'png': 'https://mainfacts.com/media/images/co...      monday   \n",
       "4  {'png': 'https://mainfacts.com/media/images/co...      monday   \n",
       "\n",
       "                    capitalInfo  \\\n",
       "0    {'latlng': [42.43, 19.27]}   \n",
       "1  {'latlng': [-9.38, -171.22]}   \n",
       "2   {'latlng': [23.12, -82.35]}   \n",
       "3   {'latlng': [16.03, -61.73]}   \n",
       "4    {'latlng': [37.98, 23.73]}   \n",
       "\n",
       "                                          postalCode  \n",
       "0          {'format': '#####', 'regex': '^(\\d{5})$'}  \n",
       "1                                                NaN  \n",
       "2  {'format': 'CP #####', 'regex': '^(?:CP)*(\\d{5...  \n",
       "3   {'format': '#####', 'regex': '^((97|98)\\d{3})$'}  \n",
       "4         {'format': '### ##', 'regex': '^(\\d{5})$'}  \n",
       "\n",
       "[5 rows x 35 columns]"
      ]
     },
     "execution_count": 6,
     "metadata": {},
     "output_type": "execute_result"
    }
   ],
   "source": [
    "df.head()"
   ]
  },
  {
   "cell_type": "code",
   "execution_count": 10,
   "metadata": {},
   "outputs": [
    {
     "data": {
      "text/plain": [
       "'Montenegro'"
      ]
     },
     "execution_count": 10,
     "metadata": {},
     "output_type": "execute_result"
    }
   ],
   "source": [
    "df['name'][0]['common']"
   ]
  },
  {
   "cell_type": "code",
   "execution_count": 82,
   "metadata": {},
   "outputs": [],
   "source": [
    "import hashlib\n",
    "\n",
    "import time\n",
    "\n",
    "\n",
    "def transform_dataframe_countries_rest(df):\n",
    "    def hash(str):\n",
    "        _str = str\n",
    "        try:\n",
    "            return hashlib.sha1(_str).hexdigest()\n",
    "        except  Exception:\n",
    "            _str = str.encode()\n",
    "            return hashlib.sha1(_str).hexdigest()\n",
    "        \n",
    "\n",
    "    new_df = pd.DataFrame()\n",
    "    new_df['City_Name'] = df['name'].apply(lambda x: x['common'])\n",
    "    new_df['Region'] = df['region']\n",
    "    new_df['languages'] = ''\n",
    "    new_df['time'] = 0\n",
    "    for index, row in enumerate(df['languages']):\n",
    "        start_time = time.time()\n",
    "        if type(row) is not float:\n",
    "            new_df['languages'][index] = hash(','.join(row.values()))\n",
    "        end_time = time.time()\n",
    "        new_df['time'][index] = end_time - start_time\n",
    "    return new_df"
   ]
  },
  {
   "cell_type": "code",
   "execution_count": 83,
   "metadata": {},
   "outputs": [
    {
     "name": "stderr",
     "output_type": "stream",
     "text": [
      "/home/miguel/anaconda3/lib/python3.7/site-packages/ipykernel_launcher.py:24: SettingWithCopyWarning: \n",
      "A value is trying to be set on a copy of a slice from a DataFrame\n",
      "\n",
      "See the caveats in the documentation: https://pandas.pydata.org/pandas-docs/stable/user_guide/indexing.html#returning-a-view-versus-a-copy\n",
      "/home/miguel/anaconda3/lib/python3.7/site-packages/ipykernel_launcher.py:26: SettingWithCopyWarning: \n",
      "A value is trying to be set on a copy of a slice from a DataFrame\n",
      "\n",
      "See the caveats in the documentation: https://pandas.pydata.org/pandas-docs/stable/user_guide/indexing.html#returning-a-view-versus-a-copy\n"
     ]
    }
   ],
   "source": [
    "n = transform_dataframe_countries_rest(df)"
   ]
  },
  {
   "cell_type": "code",
   "execution_count": 85,
   "metadata": {},
   "outputs": [
    {
     "data": {
      "text/html": [
       "<div>\n",
       "<style scoped>\n",
       "    .dataframe tbody tr th:only-of-type {\n",
       "        vertical-align: middle;\n",
       "    }\n",
       "\n",
       "    .dataframe tbody tr th {\n",
       "        vertical-align: top;\n",
       "    }\n",
       "\n",
       "    .dataframe thead th {\n",
       "        text-align: right;\n",
       "    }\n",
       "</style>\n",
       "<table border=\"1\" class=\"dataframe\">\n",
       "  <thead>\n",
       "    <tr style=\"text-align: right;\">\n",
       "      <th></th>\n",
       "      <th>City_Name</th>\n",
       "      <th>Region</th>\n",
       "      <th>languages</th>\n",
       "      <th>time</th>\n",
       "    </tr>\n",
       "  </thead>\n",
       "  <tbody>\n",
       "    <tr>\n",
       "      <th>0</th>\n",
       "      <td>Montenegro</td>\n",
       "      <td>Europe</td>\n",
       "      <td>f617672f7c9487885f593d5d61b5b420236d4505</td>\n",
       "      <td>0</td>\n",
       "    </tr>\n",
       "    <tr>\n",
       "      <th>1</th>\n",
       "      <td>Tokelau</td>\n",
       "      <td>Oceania</td>\n",
       "      <td>2a85de2b152f586176191401fce80fccf9030b78</td>\n",
       "      <td>0</td>\n",
       "    </tr>\n",
       "    <tr>\n",
       "      <th>2</th>\n",
       "      <td>Cuba</td>\n",
       "      <td>Americas</td>\n",
       "      <td>8df7f1b361b2af42d36011e00d22c0f9891ec0b0</td>\n",
       "      <td>0</td>\n",
       "    </tr>\n",
       "    <tr>\n",
       "      <th>3</th>\n",
       "      <td>Guadeloupe</td>\n",
       "      <td>Americas</td>\n",
       "      <td>44389f6a466eaabf5c1db729e369511134e2b03b</td>\n",
       "      <td>0</td>\n",
       "    </tr>\n",
       "    <tr>\n",
       "      <th>4</th>\n",
       "      <td>Greece</td>\n",
       "      <td>Europe</td>\n",
       "      <td>59d5f5b13f13f6d5e8e88a5a92e137f7d64b2954</td>\n",
       "      <td>0</td>\n",
       "    </tr>\n",
       "  </tbody>\n",
       "</table>\n",
       "</div>"
      ],
      "text/plain": [
       "    City_Name    Region                                 languages  time\n",
       "0  Montenegro    Europe  f617672f7c9487885f593d5d61b5b420236d4505     0\n",
       "1     Tokelau   Oceania  2a85de2b152f586176191401fce80fccf9030b78     0\n",
       "2        Cuba  Americas  8df7f1b361b2af42d36011e00d22c0f9891ec0b0     0\n",
       "3  Guadeloupe  Americas  44389f6a466eaabf5c1db729e369511134e2b03b     0\n",
       "4      Greece    Europe  59d5f5b13f13f6d5e8e88a5a92e137f7d64b2954     0"
      ]
     },
     "execution_count": 85,
     "metadata": {},
     "output_type": "execute_result"
    }
   ],
   "source": [
    "n.head()"
   ]
  },
  {
   "cell_type": "code",
   "execution_count": 18,
   "metadata": {},
   "outputs": [
    {
     "data": {
      "text/plain": [
       "Index(['name', 'tld', 'cca2', 'ccn3', 'cca3', 'cioc', 'independent', 'status',\n",
       "       'unMember', 'currencies', 'idd', 'capital', 'altSpellings', 'region',\n",
       "       'subregion', 'languages', 'translations', 'latlng', 'landlocked',\n",
       "       'borders', 'area', 'demonyms', 'flag', 'maps', 'population', 'gini',\n",
       "       'fifa', 'car', 'timezones', 'continents', 'flags', 'coatOfArms',\n",
       "       'startOfWeek', 'capitalInfo', 'postalCode'],\n",
       "      dtype='object')"
      ]
     },
     "execution_count": 18,
     "metadata": {},
     "output_type": "execute_result"
    }
   ],
   "source": [
    "df.columns"
   ]
  },
  {
   "cell_type": "code",
   "execution_count": 19,
   "metadata": {},
   "outputs": [
    {
     "data": {
      "text/plain": [
       "0                                 {'cnr': 'Montenegrin'}\n",
       "1      {'eng': 'English', 'smo': 'Samoan', 'tkl': 'To...\n",
       "2                                     {'spa': 'Spanish'}\n",
       "3                                      {'fra': 'French'}\n",
       "4                                       {'ell': 'Greek'}\n",
       "                             ...                        \n",
       "245                    {'eng': 'English', 'glv': 'Manx'}\n",
       "246                                    {'fra': 'French'}\n",
       "247                                   {'eng': 'English'}\n",
       "248                                    {'ara': 'Arabic'}\n",
       "249                                   {'eng': 'English'}\n",
       "Name: languages, Length: 250, dtype: object"
      ]
     },
     "execution_count": 19,
     "metadata": {},
     "output_type": "execute_result"
    }
   ],
   "source": [
    "df['languages']"
   ]
  },
  {
   "cell_type": "code",
   "execution_count": 67,
   "metadata": {},
   "outputs": [],
   "source": [
    "angola = 'Portuguese'"
   ]
  },
  {
   "cell_type": "code",
   "execution_count": 68,
   "metadata": {},
   "outputs": [],
   "source": [
    "import hashlib"
   ]
  },
  {
   "cell_type": "code",
   "execution_count": 69,
   "metadata": {},
   "outputs": [
    {
     "ename": "TypeError",
     "evalue": "Unicode-objects must be encoded before hashing",
     "output_type": "error",
     "traceback": [
      "\u001b[0;31m---------------------------------------------------------------------------\u001b[0m",
      "\u001b[0;31mTypeError\u001b[0m                                 Traceback (most recent call last)",
      "\u001b[0;32m<ipython-input-69-d9d325eb9ffc>\u001b[0m in \u001b[0;36m<module>\u001b[0;34m\u001b[0m\n\u001b[0;32m----> 1\u001b[0;31m \u001b[0mprint\u001b[0m\u001b[0;34m(\u001b[0m\u001b[0mhashlib\u001b[0m\u001b[0;34m.\u001b[0m\u001b[0msha1\u001b[0m\u001b[0;34m(\u001b[0m\u001b[0mangola\u001b[0m\u001b[0;34m)\u001b[0m\u001b[0;34m.\u001b[0m\u001b[0mhexdigest\u001b[0m\u001b[0;34m(\u001b[0m\u001b[0;34m)\u001b[0m\u001b[0;34m)\u001b[0m\u001b[0;34m\u001b[0m\u001b[0;34m\u001b[0m\u001b[0m\n\u001b[0m",
      "\u001b[0;31mTypeError\u001b[0m: Unicode-objects must be encoded before hashing"
     ]
    }
   ],
   "source": [
    "print(hashlib.sha1(angola).hexdigest())"
   ]
  },
  {
   "cell_type": "code",
   "execution_count": null,
   "metadata": {},
   "outputs": [],
   "source": []
  }
 ],
 "metadata": {
  "kernelspec": {
   "display_name": "Python 3",
   "language": "python",
   "name": "python3"
  },
  "language_info": {
   "codemirror_mode": {
    "name": "ipython",
    "version": 3
   },
   "file_extension": ".py",
   "mimetype": "text/x-python",
   "name": "python",
   "nbconvert_exporter": "python",
   "pygments_lexer": "ipython3",
   "version": "3.7.6"
  }
 },
 "nbformat": 4,
 "nbformat_minor": 1
}
